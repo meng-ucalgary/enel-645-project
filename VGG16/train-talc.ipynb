{
 "cells": [
  {
   "cell_type": "code",
   "execution_count": 26,
   "metadata": {},
   "outputs": [],
   "source": [
    "import numpy as np\n",
    "import glob\n",
    "import tensorflow as tf\n",
    "from tensorflow import keras\n",
    "from tensorflow.keras.preprocessing.image import ImageDataGenerator\n",
    "from tensorflow.keras.applications import EfficientNetB1\n",
    "import matplotlib.pylab as plt\n",
    "from pathlib import Path\n",
    "from tensorflow.keras import layers\n",
    "import json"
   ]
  },
  {
   "cell_type": "code",
   "execution_count": 2,
   "metadata": {},
   "outputs": [],
   "source": [
    "model_name_it = \"VGG_Scratch_jose.h5\""
   ]
  },
  {
   "cell_type": "code",
   "execution_count": 3,
   "metadata": {},
   "outputs": [],
   "source": [
    "gpus = tf.config.experimental.list_physical_devices('GPU')\n",
    "if gpus:\n",
    "  for gpu in gpus:\n",
    "    tf.config.experimental.set_memory_growth(gpu, True)\n",
    "else:\n",
    "  print(\"No GPU device found\")"
   ]
  },
  {
   "cell_type": "code",
   "execution_count": 4,
   "metadata": {},
   "outputs": [],
   "source": [
    "early_stop = tf.keras.callbacks.EarlyStopping(monitor='val_loss', patience = 40, min_delta=0.01)"
   ]
  },
  {
   "cell_type": "code",
   "execution_count": 5,
   "metadata": {},
   "outputs": [],
   "source": [
    "monitor_it = tf.keras.callbacks.ModelCheckpoint(model_name_it, monitor='val_loss', \n",
    "                                                verbose=0,save_best_only=True,\n",
    "                                                save_weights_only=True,\n",
    "                                                mode='min')"
   ]
  },
  {
   "cell_type": "code",
   "execution_count": 6,
   "metadata": {},
   "outputs": [],
   "source": [
    "def scheduler(epoch, lr):\n",
    "    if epoch%40 == 0 and epoch!= 0:\n",
    "        lr = lr/2\n",
    "    return lr"
   ]
  },
  {
   "cell_type": "code",
   "execution_count": 7,
   "metadata": {},
   "outputs": [],
   "source": [
    "lr_schedule = tf.keras.callbacks.LearningRateScheduler(scheduler,verbose = 0)"
   ]
  },
  {
   "cell_type": "code",
   "execution_count": 8,
   "metadata": {},
   "outputs": [],
   "source": [
    "generator = ImageDataGenerator(validation_split=0.2, preprocessing_function = tf.keras.applications.vgg16.preprocess_input)"
   ]
  },
  {
   "cell_type": "code",
   "execution_count": 9,
   "metadata": {},
   "outputs": [],
   "source": [
    "bs = 32 # batch size"
   ]
  },
  {
   "cell_type": "code",
   "execution_count": 10,
   "metadata": {},
   "outputs": [],
   "source": [
    "path = Path(\"../dataset/\")"
   ]
  },
  {
   "cell_type": "code",
   "execution_count": 11,
   "metadata": {},
   "outputs": [],
   "source": [
    "img_height = 224\n",
    "img_width = 224"
   ]
  },
  {
   "cell_type": "code",
   "execution_count": 12,
   "metadata": {},
   "outputs": [],
   "source": [
    "classes_names = [\"2_clubs\",\"2_diamonds\",\"2_hearts\",\"2_spades\", \n",
    "                 \"3_clubs\",\"3_diamonds\",\"3_hearts\",\"3_spades\",\n",
    "                 \"4_clubs\",\"4_diamonds\",\"4_hearts\",\"4_spades\",\n",
    "                 \"5_clubs\",\"5_diamonds\",\"5_hearts\",\"5_spades\", \n",
    "                 \"6_clubs\",\"6_diamonds\",\"6_hearts\",\"6_spades\",\n",
    "                 \"7_clubs\",\"7_diamonds\",\"7_hearts\",\"7_spades\",\n",
    "                 \"8_clubs\",\"8_diamonds\",\"8_hearts\",\"8_spades\", \n",
    "                 \"9_clubs\",\"9_diamonds\",\"9_hearts\",\"9_spades\",\n",
    "                 \"10_clubs\",\"10_diamonds\",\"10_hearts\",\"10_spades\", \n",
    "                 \"ace_clubs\",\"ace_diamonds\",\"ace_hearts\",\"ace_spades\",\n",
    "                 \"jack_clubs\",\"jack_diamonds\",\"jack_hearts\",\"jack_spades\",\n",
    "                 \"king_clubs\",\"king_diamonds\",\"king_hearts\",\"king_spades\",\n",
    "                 \"queen_clubs\",\"queen_diamonds\",\"queen_hearts\",\"queen_spades\"]"
   ]
  },
  {
   "cell_type": "code",
   "execution_count": 13,
   "metadata": {},
   "outputs": [
    {
     "name": "stdout",
     "output_type": "stream",
     "text": [
      "Found 24952 images belonging to 52 classes.\n"
     ]
    }
   ],
   "source": [
    "train_generator = generator.flow_from_directory(\n",
    "    directory = path,\n",
    "    target_size=(img_height, img_width),\n",
    "    batch_size=bs,\n",
    "    class_mode=\"categorical\",\n",
    "    subset='training',\n",
    "    interpolation=\"nearest\",\n",
    "    classes=classes_names) # set as training data"
   ]
  },
  {
   "cell_type": "code",
   "execution_count": 14,
   "metadata": {},
   "outputs": [
    {
     "name": "stdout",
     "output_type": "stream",
     "text": [
      "Found 6206 images belonging to 52 classes.\n"
     ]
    }
   ],
   "source": [
    "validation_generator = generator.flow_from_directory(\n",
    "    directory = path,\n",
    "    target_size=(img_height, img_width),\n",
    "    batch_size=bs,\n",
    "    class_mode=\"categorical\",\n",
    "    subset='validation',\n",
    "    interpolation=\"nearest\",\n",
    "    classes=classes_names) # set as validation data"
   ]
  },
  {
   "cell_type": "markdown",
   "metadata": {},
   "source": [
    "Defining the model"
   ]
  },
  {
   "cell_type": "code",
   "execution_count": 15,
   "metadata": {},
   "outputs": [],
   "source": [
    "trainable_flag = True\n",
    "include_top_flag = False\n",
    "weigths_value = 'imagenet'"
   ]
  },
  {
   "cell_type": "code",
   "execution_count": 16,
   "metadata": {},
   "outputs": [],
   "source": [
    "if trainable_flag:\n",
    "    include_top_flag = True\n",
    "    weigths_value = None\n",
    "else:\n",
    "    include_top_flag = False\n",
    "    weigths_value = 'imagenet'"
   ]
  },
  {
   "cell_type": "code",
   "execution_count": 17,
   "metadata": {},
   "outputs": [
    {
     "name": "stdout",
     "output_type": "stream",
     "text": [
      "None\n",
      "True\n",
      "True\n"
     ]
    }
   ],
   "source": [
    "print(weigths_value)\n",
    "print(include_top_flag)\n",
    "print(trainable_flag)"
   ]
  },
  {
   "cell_type": "code",
   "execution_count": 19,
   "metadata": {},
   "outputs": [],
   "source": [
    "base_model = tf.keras.applications.VGG16(\n",
    "    weights=weigths_value,\n",
    "    input_tensor=None,\n",
    "    pooling=None,\n",
    "    classifier_activation=\"softmax\",\n",
    "    input_shape=(img_height, img_width, 3),\n",
    "    include_top=include_top_flag,\n",
    "    classes=len(classes_names) )\n",
    "base_model.trainable = trainable_flag\n",
    "inputs = layers.Input(shape=(img_height,img_width,3))\n",
    "outputs = base_model(inputs)\n",
    "model = tf.keras.Model( inputs,  outputs)"
   ]
  },
  {
   "cell_type": "code",
   "execution_count": 20,
   "metadata": {},
   "outputs": [
    {
     "name": "stdout",
     "output_type": "stream",
     "text": [
      "Initial Training Model\n",
      "Model: \"model\"\n",
      "_________________________________________________________________\n",
      " Layer (type)                Output Shape              Param #   \n",
      "=================================================================\n",
      " input_2 (InputLayer)        [(None, 224, 224, 3)]     0         \n",
      "                                                                 \n",
      " vgg16 (Functional)          (None, 52)                134473588 \n",
      "                                                                 \n",
      "=================================================================\n",
      "Total params: 134,473,588\n",
      "Trainable params: 134,473,588\n",
      "Non-trainable params: 0\n",
      "_________________________________________________________________\n",
      "None\n"
     ]
    }
   ],
   "source": [
    "print(\"Initial Training Model\")\n",
    "print(model.summary())"
   ]
  },
  {
   "cell_type": "code",
   "execution_count": 21,
   "metadata": {},
   "outputs": [],
   "source": [
    "model.compile(optimizer=tf.keras.optimizers.Adam(learning_rate = 0.5e-4), #1e-4\n",
    "              loss='categorical_crossentropy',\n",
    "              metrics=['accuracy'])"
   ]
  },
  {
   "cell_type": "code",
   "execution_count": 22,
   "metadata": {},
   "outputs": [
    {
     "name": "stdout",
     "output_type": "stream",
     "text": [
      "Epoch 1/17\n",
      "780/780 [==============================] - 314s 394ms/step - loss: 2.9286 - accuracy: 0.1821 - val_loss: 2.6361 - val_accuracy: 0.1610 - lr: 5.0000e-05\n",
      "Epoch 2/17\n",
      "780/780 [==============================] - 310s 397ms/step - loss: 1.2558 - accuracy: 0.5915 - val_loss: 2.0611 - val_accuracy: 0.3211 - lr: 5.0000e-05\n",
      "Epoch 3/17\n",
      "780/780 [==============================] - 311s 398ms/step - loss: 0.6594 - accuracy: 0.7882 - val_loss: 1.9689 - val_accuracy: 0.3933 - lr: 5.0000e-05\n",
      "Epoch 4/17\n",
      "780/780 [==============================] - 310s 397ms/step - loss: 0.3744 - accuracy: 0.8823 - val_loss: 2.0554 - val_accuracy: 0.4642 - lr: 5.0000e-05\n",
      "Epoch 5/17\n",
      "780/780 [==============================] - 310s 398ms/step - loss: 0.2336 - accuracy: 0.9300 - val_loss: 2.1324 - val_accuracy: 0.4931 - lr: 5.0000e-05\n",
      "Epoch 6/17\n",
      "780/780 [==============================] - 310s 397ms/step - loss: 0.1700 - accuracy: 0.9516 - val_loss: 2.4785 - val_accuracy: 0.5058 - lr: 5.0000e-05\n",
      "Epoch 7/17\n",
      "780/780 [==============================] - 309s 396ms/step - loss: 0.1428 - accuracy: 0.9584 - val_loss: 2.4550 - val_accuracy: 0.5077 - lr: 5.0000e-05\n",
      "Epoch 8/17\n",
      "780/780 [==============================] - 310s 397ms/step - loss: 0.1097 - accuracy: 0.9698 - val_loss: 2.4111 - val_accuracy: 0.5139 - lr: 5.0000e-05\n",
      "Epoch 9/17\n",
      "780/780 [==============================] - 310s 397ms/step - loss: 0.0956 - accuracy: 0.9735 - val_loss: 2.6702 - val_accuracy: 0.5379 - lr: 5.0000e-05\n",
      "Epoch 10/17\n",
      "780/780 [==============================] - 310s 397ms/step - loss: 0.0819 - accuracy: 0.9791 - val_loss: 2.2186 - val_accuracy: 0.5290 - lr: 5.0000e-05\n",
      "Epoch 11/17\n",
      "780/780 [==============================] - 310s 398ms/step - loss: 0.0754 - accuracy: 0.9806 - val_loss: 2.4027 - val_accuracy: 0.5142 - lr: 5.0000e-05\n",
      "Epoch 12/17\n",
      "780/780 [==============================] - 310s 398ms/step - loss: 0.0655 - accuracy: 0.9840 - val_loss: 1.9768 - val_accuracy: 0.5190 - lr: 5.0000e-05\n",
      "Epoch 13/17\n",
      "780/780 [==============================] - 311s 398ms/step - loss: 0.0644 - accuracy: 0.9834 - val_loss: 2.7027 - val_accuracy: 0.5006 - lr: 5.0000e-05\n",
      "Epoch 14/17\n",
      "780/780 [==============================] - 310s 397ms/step - loss: 0.0621 - accuracy: 0.9844 - val_loss: 2.6479 - val_accuracy: 0.5253 - lr: 5.0000e-05\n",
      "Epoch 15/17\n",
      "780/780 [==============================] - 310s 398ms/step - loss: 0.0433 - accuracy: 0.9896 - val_loss: 2.2322 - val_accuracy: 0.5203 - lr: 5.0000e-05\n",
      "Epoch 16/17\n",
      "780/780 [==============================] - 304s 389ms/step - loss: 0.0579 - accuracy: 0.9847 - val_loss: 2.7148 - val_accuracy: 0.5172 - lr: 5.0000e-05\n",
      "Epoch 17/17\n",
      "780/780 [==============================] - 307s 394ms/step - loss: 0.0429 - accuracy: 0.9888 - val_loss: 3.1881 - val_accuracy: 0.5118 - lr: 5.0000e-05\n"
     ]
    }
   ],
   "source": [
    "history_it = model.fit(train_generator, epochs=17, verbose = 1, \n",
    "                       workers=8, validation_data = (validation_generator),\n",
    "                       callbacks= [monitor_it,early_stop, lr_schedule])"
   ]
  },
  {
   "cell_type": "code",
   "execution_count": 23,
   "metadata": {},
   "outputs": [
    {
     "data": {
      "image/png": "[encoded data removed]",
      "text/plain": [
       "<Figure size 1008x504 with 2 Axes>"
      ]
     },
     "metadata": {
      "needs_background": "light"
     },
     "output_type": "display_data"
    }
   ],
   "source": [
    "fig, axes = plt.subplots(nrows=1, ncols=2, figsize=(14, 7))\n",
    "\n",
    "axes[0].plot(history_it.history[\"loss\"], label = \"Loss\")\n",
    "axes[0].plot(history_it.history[\"val_loss\"], label = \"Val. loss\")\n",
    "\n",
    "axes[0].legend(prop={'size': 16})\n",
    "\n",
    "axes[1].plot(history_it.history[\"accuracy\"], label = \"Acc.\")\n",
    "axes[1].plot(history_it.history[\"val_accuracy\"], label = \"Val Acc.\")\n",
    "\n",
    "axes[1].legend(prop={'size': 16})\n",
    "\n",
    "plt.show()"
   ]
  },
  {
   "cell_type": "code",
   "execution_count": 29,
   "metadata": {},
   "outputs": [],
   "source": [
    "np.save('VGG16_best_model_history.npy', history_it.history)"
   ]
  },
  {
   "cell_type": "code",
   "execution_count": 28,
   "metadata": {},
   "outputs": [],
   "source": [
    "model.save_weights('VGG16_best_model.h5')"
   ]
  },
  {
   "cell_type": "code",
   "execution_count": 30,
   "metadata": {},
   "outputs": [],
   "source": [
    "json_config = model.to_json()\n",
    "with open('VGG16_best_model.json', 'w') as outfile:\n",
    "    json.dump(json_config, outfile,indent=4)"
   ]
  },
  {
   "cell_type": "code",
   "execution_count": null,
   "metadata": {},
   "outputs": [],
   "source": []
  }
 ],
 "metadata": {
  "kernelspec": {
   "display_name": "Python 3 (ipykernel)",
   "language": "python",
   "name": "python3"
  },
  "language_info": {
   "codemirror_mode": {
    "name": "ipython",
    "version": 3
   },
   "file_extension": ".py",
   "mimetype": "text/x-python",
   "name": "python",
   "nbconvert_exporter": "python",
   "pygments_lexer": "ipython3",
   "version": "3.9.7"
  }
 },
 "nbformat": 4,
 "nbformat_minor": 2
}
